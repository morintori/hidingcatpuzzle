{
 "cells": [
  {
   "cell_type": "markdown",
   "id": "5f257dec",
   "metadata": {},
   "source": [
    "After finding this puzzle from https://www.youtube.com/watch?v=yZyx9gHhRXM, my intuition was to pick the middle box 3, then go to 4, pick it twice in case the cat was in the 5 th box then go the other way to 3 then 2 twice. This wasnt the solution displayed in the video so I decided to test it. The solution in the video gives a better maximum number of days, but my solution I believe gives a better average number of days taken. It is the same pattern as shown in their solution but I started from another point in the pattern."
   ]
  },
  {
   "cell_type": "code",
   "execution_count": 1,
   "id": "6d5c8912",
   "metadata": {},
   "outputs": [],
   "source": [
    "import random"
   ]
  },
  {
   "cell_type": "code",
   "execution_count": 35,
   "id": "6374b956",
   "metadata": {},
   "outputs": [],
   "source": [
    "def Average(lst):\n",
    "    return sum(lst)/len(lst)"
   ]
  },
  {
   "cell_type": "code",
   "execution_count": 44,
   "id": "8bb1e32e",
   "metadata": {},
   "outputs": [],
   "source": [
    "def guess_cats(guess_order=[2,3,4,4,3,2],n_boxes = 5,runs=100):\n",
    "    days_to_cat=[]\n",
    "\n",
    "    for x in range(0,runs):\n",
    "        cat_pos = random.randint(1,n_boxes)\n",
    "        day_num = 1\n",
    "        i=0\n",
    "        while True:\n",
    "\n",
    "            if cat_pos==guess_order[i]:\n",
    "                days_to_cat.append(day_num)\n",
    "                break\n",
    "            else:\n",
    "                day_num+=1\n",
    "                if i == len(guess_order)-1:\n",
    "                    i =0\n",
    "                else:\n",
    "                    i+=1\n",
    "\n",
    "                if cat_pos == n_boxes:\n",
    "                    cat_pos =n_boxes-1\n",
    "                elif cat_pos==1:\n",
    "                    cat_pos =2\n",
    "                else:\n",
    "                    cat_pos = random.randrange(cat_pos-1,cat_pos+2,2)\n",
    "\n",
    "    return days_to_cat\n",
    "        "
   ]
  },
  {
   "cell_type": "code",
   "execution_count": 81,
   "id": "038e541d",
   "metadata": {},
   "outputs": [
    {
     "data": {
      "text/plain": [
       "3.5268"
      ]
     },
     "execution_count": 81,
     "metadata": {},
     "output_type": "execute_result"
    }
   ],
   "source": [
    "order_234432 = guess_cats(runs=10000)\n",
    "\n",
    "Average(order_234432)"
   ]
  },
  {
   "cell_type": "code",
   "execution_count": 82,
   "id": "2cb985a0",
   "metadata": {},
   "outputs": [
    {
     "data": {
      "text/plain": [
       "3.4066"
      ]
     },
     "execution_count": 82,
     "metadata": {},
     "output_type": "execute_result"
    }
   ],
   "source": [
    "order_344322 = guess_cats([3,4,4,3,2,2],runs=10000)\n",
    "Average(order_344322)"
   ]
  }
 ],
 "metadata": {
  "kernelspec": {
   "display_name": "Python [conda env:jupyter_env] *",
   "language": "python",
   "name": "conda-env-jupyter_env-py"
  },
  "language_info": {
   "codemirror_mode": {
    "name": "ipython",
    "version": 3
   },
   "file_extension": ".py",
   "mimetype": "text/x-python",
   "name": "python",
   "nbconvert_exporter": "python",
   "pygments_lexer": "ipython3",
   "version": "3.10.8"
  }
 },
 "nbformat": 4,
 "nbformat_minor": 5
}
