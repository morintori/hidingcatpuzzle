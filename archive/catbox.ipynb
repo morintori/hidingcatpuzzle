{
 "cells": [
  {
   "cell_type": "code",
   "execution_count": 1,
   "id": "a73e7088",
   "metadata": {},
   "outputs": [],
   "source": [
    "import random"
   ]
  },
  {
   "cell_type": "code",
   "execution_count": 35,
   "id": "be2bfb6f",
   "metadata": {},
   "outputs": [],
   "source": [
    "def Average(lst):\n",
    "    return sum(lst)/len(lst)"
   ]
  },
  {
   "cell_type": "code",
   "execution_count": 44,
   "id": "b3be8bac",
   "metadata": {},
   "outputs": [],
   "source": [
    "def guess_cats(guess_order=[2,3,4,4,3,2],n_boxes = 5,runs=100):\n",
    "    days_to_cat=[]\n",
    "\n",
    "    for x in range(0,runs):\n",
    "        cat_pos = random.randint(1,n_boxes)\n",
    "        day_num = 1\n",
    "        i=0\n",
    "        while True:\n",
    "\n",
    "            if cat_pos==guess_order[i]:\n",
    "                days_to_cat.append(day_num)\n",
    "                break\n",
    "            else:\n",
    "                day_num+=1\n",
    "                if i == len(guess_order)-1:\n",
    "                    i =0\n",
    "                else:\n",
    "                    i+=1\n",
    "\n",
    "                if cat_pos == n_boxes:\n",
    "                    cat_pos =n_boxes-1\n",
    "                elif cat_pos==1:\n",
    "                    cat_pos =2\n",
    "                else:\n",
    "                    cat_pos = random.randrange(cat_pos-1,cat_pos+2,2)\n",
    "\n",
    "    return days_to_cat\n",
    "        "
   ]
  },
  {
   "cell_type": "code",
   "execution_count": 78,
   "id": "9f8f0533",
   "metadata": {},
   "outputs": [],
   "source": [
    "order_234432 = guess_cats(runs=10000)"
   ]
  },
  {
   "cell_type": "code",
   "execution_count": 79,
   "id": "b4c662ba",
   "metadata": {},
   "outputs": [
    {
     "data": {
      "text/plain": [
       "3.5564"
      ]
     },
     "execution_count": 79,
     "metadata": {},
     "output_type": "execute_result"
    }
   ],
   "source": [
    "Average(order_234432)"
   ]
  },
  {
   "cell_type": "code",
   "execution_count": 80,
   "id": "d48d2104",
   "metadata": {},
   "outputs": [
    {
     "data": {
      "text/plain": [
       "3.4158"
      ]
     },
     "execution_count": 80,
     "metadata": {},
     "output_type": "execute_result"
    }
   ],
   "source": [
    "order_344322 = guess_cats([3,4,4,3,2,2],runs=10000)\n",
    "Average(order_344322)"
   ]
  }
 ],
 "metadata": {
  "kernelspec": {
   "display_name": "Python [conda env:jupyter_env] *",
   "language": "python",
   "name": "conda-env-jupyter_env-py"
  },
  "language_info": {
   "codemirror_mode": {
    "name": "ipython",
    "version": 3
   },
   "file_extension": ".py",
   "mimetype": "text/x-python",
   "name": "python",
   "nbconvert_exporter": "python",
   "pygments_lexer": "ipython3",
   "version": "3.10.8"
  }
 },
 "nbformat": 4,
 "nbformat_minor": 5
}
